{
  "nbformat": 4,
  "nbformat_minor": 0,
  "metadata": {
    "colab": {
      "name": "Grafos.ipynb",
      "provenance": [],
      "collapsed_sections": [],
      "include_colab_link": true
    },
    "kernelspec": {
      "name": "python3",
      "display_name": "Python 3"
    }
  },
  "cells": [
    {
      "cell_type": "markdown",
      "metadata": {
        "id": "view-in-github",
        "colab_type": "text"
      },
      "source": [
        "<a href=\"https://colab.research.google.com/github/MantisOrquida/Calculadora/blob/master/Grafos.ipynb\" target=\"_parent\"><img src=\"https://colab.research.google.com/assets/colab-badge.svg\" alt=\"Open In Colab\"/></a>"
      ]
    },
    {
      "cell_type": "code",
      "metadata": {
        "id": "tsPkIYgfQ_11",
        "colab_type": "code",
        "colab": {}
      },
      "source": [
        "import matplotlib.pyplot as plt\n",
        "from networkx import nx\n",
        "import numpy as np\n",
        "import heapdict as hd \n",
        "\n"
      ],
      "execution_count": 0,
      "outputs": []
    },
    {
      "cell_type": "code",
      "metadata": {
        "id": "EzcWa2-QSPuR",
        "colab_type": "code",
        "colab": {}
      },
      "source": [
        "\n",
        "\n",
        "\n"
      ],
      "execution_count": 0,
      "outputs": []
    },
    {
      "cell_type": "code",
      "metadata": {
        "id": "YDNmXJWjG1dY",
        "colab_type": "code",
        "colab": {}
      },
      "source": [
        "class miGrafo:\n",
        "  __G={}\n",
        "  \n",
        "  def __init__(self):\n",
        "    print(\"Hello, World!\")\n",
        "    self.__G={}\n",
        "    self.__visitado={}\n",
        "  def getDict(self):\n",
        "        return self.__G\n",
        "  def insertaD(self,vi,vj,peso=''):\n",
        "    if vi in self.__G.keys():\n",
        "      self.__G[vi][vj]=peso\n",
        "    else: \n",
        "      self.__G[vi]={}\n",
        "      self.__G[vi][vj]=peso\n",
        "    if vj not in self.__G.keys():\n",
        "      self.__G[vj]={}\n",
        "  def inserta(self,vj,vi,peso=''):\n",
        "    self.insertaD(vi,vj,peso)\n",
        "    self.insertaD(vj,vi,peso)\n",
        "\n",
        "  def DFSc(self,vi,lista):\n",
        "    if vi not in self.__visitado or self.__visitado[vi]:\n",
        "      return\n",
        "    lista+=[vi]\n",
        "    self.__visitado[vi]=True\n",
        "    for vj in self.__G[vi]:\n",
        "      self.DFSc(vj,lista)\n",
        "\n",
        "  def DFS(self):\n",
        "    for vi in self.__G:\n",
        "      self.__visitado[vi]=False\n",
        "    lista=[]\n",
        "    for vi in self.__visitado:\n",
        "      if not self.__visitado[vi]:\n",
        "        self.DFSc(vi,lista)\n",
        "    return lista\n",
        "\n",
        "  def visitaHam(self,vi,lista,cont):\n",
        "    if vi not in self.__visitado or self.__visitado[vi]:\n",
        "      return False\n",
        "    lista+=[vi]\n",
        "    self.__visitado[vi]=True\n",
        "    res=False\n",
        "    if (cont==len(visitado)) # es como contar que todos los visitados esten en True\n",
        "      return True\n",
        "    for vj in self.__G[vi]:\n",
        "      res=self.DFSc(vj,lista,cont+1)\n",
        "      if res:\n",
        "        break\n",
        "    self.__vistado[vi]=False\n",
        "    if not res:\n",
        "      lista.pop()\n",
        "    return res\n",
        "\n",
        "  def caminoHamDFS(self):\n",
        "    for vi in self.__G:\n",
        "      self.__visitado[vi]=False\n",
        "    lista=[]\n",
        "    res=False\n",
        "    for vi in self.__visitado:\n",
        "      if not res:\n",
        "        res=self.visitaHam(vi,lista,1)\n",
        "    return lista\n",
        "\n",
        "  def BFSc(self,vi,lista):\n",
        "    Q=[vi]\n",
        "\n",
        "    while len(Q)>0:\n",
        "      vi=Q.pop(0)\n",
        "      lista+=[vi]\n",
        "      self.__visitado[vi]=True\n",
        "      for vj in self.__G[vi].keys():\n",
        "        if not self.__visitado[vj]:\n",
        "          Q+=[vj]\n",
        "\n",
        "\n",
        "\n",
        "  def BFS(self):\n",
        "    for vi in self.__G:\n",
        "      self.__visitado[vi]=False\n",
        "    lista=[]\n",
        "    for vi in self.__visitado:\n",
        "      if not self.__visitado[vi]:\n",
        "        self.BFSc(vi,lista)\n",
        "    return lista\n",
        "\n",
        "  def Prim(self,vini):\n",
        "    Q=hd.heapdict()\n",
        "    papa={}\n",
        "    visitado={}\n",
        "    for v in self.__G:\n",
        "      papa[v]=None\n",
        "      visitado[v]=False\n",
        "      Q[v]=np.inf\n",
        "    Q[vini]=0 # esto hace el decrease_key en el min heap. Es decir burbujea Vini hasta la raiz, en este caso\n",
        "    while len(Q)!=0:\n",
        "      v,peso=Q.popitem()\n",
        "      visitado[v]=True\n",
        "      for u in self.__G[v].keys():\n",
        "        if not visitado[u] and self.__G[v][u] < Q[u]:\n",
        "          Q[u]=self.__G[v][u]\n",
        "          papa[u]=v\n",
        "    pesoTotal=0\n",
        "    for v in papa:\n",
        "      if papa[v]:\n",
        "        pesoTotal+=self.__G[papa[v]][v]\n",
        "\n",
        "    return papa,pesoTotal\n"
      ],
      "execution_count": 0,
      "outputs": []
    },
    {
      "cell_type": "code",
      "metadata": {
        "id": "yCF57o_pHqvl",
        "colab_type": "code",
        "outputId": "747e9d85-5695-4794-9eb2-eae982c5a28a",
        "colab": {
          "base_uri": "https://localhost:8080/",
          "height": 34
        }
      },
      "source": [
        "pru={}\n",
        "pru['fer']=None\n",
        "pru['fran']=1\n",
        "for v in pru:\n",
        "  if pru[v]:\n",
        "    print(pru[v])\n"
      ],
      "execution_count": 0,
      "outputs": [
        {
          "output_type": "stream",
          "text": [
            "1\n"
          ],
          "name": "stdout"
        }
      ]
    },
    {
      "cell_type": "code",
      "metadata": {
        "id": "aeFI8dMY0o-N",
        "colab_type": "code",
        "colab": {}
      },
      "source": [
        ""
      ],
      "execution_count": 0,
      "outputs": []
    },
    {
      "cell_type": "code",
      "metadata": {
        "id": "ZjFR11ei4Wh9",
        "colab_type": "code",
        "colab": {}
      },
      "source": [
        ""
      ],
      "execution_count": 0,
      "outputs": []
    },
    {
      "cell_type": "markdown",
      "metadata": {
        "id": "2zeVfT0lrGTj",
        "colab_type": "text"
      },
      "source": [
        ""
      ]
    },
    {
      "cell_type": "code",
      "metadata": {
        "id": "ofE5d6PhHdwQ",
        "colab_type": "code",
        "outputId": "f0275996-8d9a-4904-c7e2-adb566f7578d",
        "colab": {
          "base_uri": "https://localhost:8080/",
          "height": 34
        }
      },
      "source": [
        "g=miGrafo()"
      ],
      "execution_count": 0,
      "outputs": [
        {
          "output_type": "stream",
          "text": [
            "Hello, World!\n"
          ],
          "name": "stdout"
        }
      ]
    },
    {
      "cell_type": "code",
      "metadata": {
        "id": "Gk4NmGGHHkao",
        "colab_type": "code",
        "colab": {}
      },
      "source": [
        "g.inserta(\"a\",\"b\",4)\n",
        "g.inserta('a','h',8)\n",
        "g.inserta('b','h',11)\n",
        "g.inserta('b','c',8)\n",
        "g.inserta('h','i',7)\n",
        "g.inserta('h','g',1)\n",
        "g.inserta('c','i',2)\n",
        "g.inserta('c','d',7)\n",
        "g.inserta('c','f',4)\n",
        "g.inserta('g','f',2)\n",
        "g.inserta('d','e',9)\n",
        "g.inserta('d','f',14)\n",
        "g.inserta('f','g',2)\n",
        "g.inserta('f','d',14)\n",
        "g.inserta('f','e',10)\n",
        "g.inserta('g','i',6)\n",
        "\n",
        "\n",
        "\n"
      ],
      "execution_count": 0,
      "outputs": []
    },
    {
      "cell_type": "code",
      "metadata": {
        "id": "jfN_xAj7IMK5",
        "colab_type": "code",
        "colab": {}
      },
      "source": [
        "gr1 = nx.DiGraph(g.getDict())"
      ],
      "execution_count": 0,
      "outputs": []
    },
    {
      "cell_type": "code",
      "metadata": {
        "id": "5Gc2hpTvISyr",
        "colab_type": "code",
        "outputId": "844c6750-1960-401d-d443-4fcd4e2d7c2f",
        "colab": {
          "base_uri": "https://localhost:8080/",
          "height": 319
        }
      },
      "source": [
        "nx.draw(gr1, with_labels=True)"
      ],
      "execution_count": 0,
      "outputs": [
        {
          "output_type": "display_data",
          "data": {
            "image/png": "[encoded data removed]",
            "text/plain": [
              "<Figure size 432x288 with 1 Axes>"
            ]
          },
          "metadata": {
            "tags": []
          }
        }
      ]
    },
    {
      "cell_type": "code",
      "metadata": {
        "id": "VQw26ugBIVfv",
        "colab_type": "code",
        "outputId": "2796138e-c9e4-4163-f25e-98179f5854fa",
        "colab": {
          "base_uri": "https://localhost:8080/",
          "height": 187
        }
      },
      "source": [
        "g.Prim('a')"
      ],
      "execution_count": 0,
      "outputs": [
        {
          "output_type": "execute_result",
          "data": {
            "text/plain": [
              "({'a': None,\n",
              "  'b': 'a',\n",
              "  'c': 'b',\n",
              "  'd': 'c',\n",
              "  'e': 'd',\n",
              "  'f': 'c',\n",
              "  'g': 'f',\n",
              "  'h': 'g',\n",
              "  'i': 'c'},\n",
              " 37)"
            ]
          },
          "metadata": {
            "tags": []
          },
          "execution_count": 30
        }
      ]
    },
    {
      "cell_type": "code",
      "metadata": {
        "id": "lqJLm8hfCSGC",
        "colab_type": "code",
        "outputId": "ee2c60ba-06b3-4eb7-da38-7d13a030810e",
        "colab": {
          "base_uri": "https://localhost:8080/",
          "height": 215
        }
      },
      "source": [
        ""
      ],
      "execution_count": 0,
      "outputs": [
        {
          "output_type": "error",
          "ename": "NameError",
          "evalue": "ignored",
          "traceback": [
            "\u001b[0;31m---------------------------------------------------------------------------\u001b[0m",
            "\u001b[0;31mNameError\u001b[0m                                 Traceback (most recent call last)",
            "\u001b[0;32m<ipython-input-1-ebaa72e49fa1>\u001b[0m in \u001b[0;36m<module>\u001b[0;34m()\u001b[0m\n\u001b[0;32m----> 1\u001b[0;31m \u001b[0mpos\u001b[0m\u001b[0;34m=\u001b[0m\u001b[0mnx\u001b[0m\u001b[0;34m.\u001b[0m\u001b[0mplanar_layout\u001b[0m\u001b[0;34m(\u001b[0m\u001b[0mG\u001b[0m\u001b[0;34m)\u001b[0m \u001b[0;31m# pos = nx.nx_agraph.graphviz_layout(G)\u001b[0m\u001b[0;34m\u001b[0m\u001b[0;34m\u001b[0m\u001b[0m\n\u001b[0m\u001b[1;32m      2\u001b[0m \u001b[0mnx\u001b[0m\u001b[0;34m.\u001b[0m\u001b[0mdraw_networkx\u001b[0m\u001b[0;34m(\u001b[0m\u001b[0mG\u001b[0m\u001b[0;34m,\u001b[0m\u001b[0mpos\u001b[0m\u001b[0;34m)\u001b[0m\u001b[0;34m\u001b[0m\u001b[0;34m\u001b[0m\u001b[0m\n\u001b[1;32m      3\u001b[0m \u001b[0mlabels\u001b[0m \u001b[0;34m=\u001b[0m \u001b[0mnx\u001b[0m\u001b[0;34m.\u001b[0m\u001b[0mget_edge_attributes\u001b[0m\u001b[0;34m(\u001b[0m\u001b[0mG\u001b[0m\u001b[0;34m,\u001b[0m\u001b[0;34m'weight'\u001b[0m\u001b[0;34m)\u001b[0m\u001b[0;34m\u001b[0m\u001b[0;34m\u001b[0m\u001b[0m\n\u001b[1;32m      4\u001b[0m \u001b[0mnx\u001b[0m\u001b[0;34m.\u001b[0m\u001b[0mdraw_networkx_edge_labels\u001b[0m\u001b[0;34m(\u001b[0m\u001b[0mG\u001b[0m\u001b[0;34m,\u001b[0m\u001b[0mpos\u001b[0m\u001b[0;34m,\u001b[0m\u001b[0medge_labels\u001b[0m\u001b[0;34m=\u001b[0m\u001b[0mlabels\u001b[0m\u001b[0;34m)\u001b[0m\u001b[0;34m\u001b[0m\u001b[0;34m\u001b[0m\u001b[0m\n",
            "\u001b[0;31mNameError\u001b[0m: name 'nx' is not defined"
          ]
        }
      ]
    },
    {
      "cell_type": "code",
      "metadata": {
        "id": "sQAzFUEgIYpJ",
        "colab_type": "code",
        "outputId": "3075d9a4-68dd-4b15-af2d-71aaed54d927",
        "colab": {
          "base_uri": "https://localhost:8080/",
          "height": 34
        }
      },
      "source": [
        "lista=[]\n",
        "g.BFS()"
      ],
      "execution_count": 0,
      "outputs": [
        {
          "output_type": "execute_result",
          "data": {
            "text/plain": [
              "['v2', 'v1', 'v3', 'v4', 'v5', 'b', 'a']"
            ]
          },
          "metadata": {
            "tags": []
          },
          "execution_count": 17
        }
      ]
    },
    {
      "cell_type": "code",
      "metadata": {
        "id": "6LWNVpLVIZ9L",
        "colab_type": "code",
        "outputId": "f11d1749-1db5-48af-ea03-a684daa571a5",
        "colab": {
          "base_uri": "https://localhost:8080/",
          "height": 164
        }
      },
      "source": [
        "G.keys()"
      ],
      "execution_count": 0,
      "outputs": [
        {
          "output_type": "error",
          "ename": "NameError",
          "evalue": "ignored",
          "traceback": [
            "\u001b[0;31m---------------------------------------------------------------------------\u001b[0m",
            "\u001b[0;31mNameError\u001b[0m                                 Traceback (most recent call last)",
            "\u001b[0;32m<ipython-input-19-675ba4588a64>\u001b[0m in \u001b[0;36m<module>\u001b[0;34m()\u001b[0m\n\u001b[0;32m----> 1\u001b[0;31m \u001b[0mG\u001b[0m\u001b[0;34m.\u001b[0m\u001b[0mkeys\u001b[0m\u001b[0;34m(\u001b[0m\u001b[0;34m)\u001b[0m\u001b[0;34m\u001b[0m\u001b[0;34m\u001b[0m\u001b[0m\n\u001b[0m",
            "\u001b[0;31mNameError\u001b[0m: name 'G' is not defined"
          ]
        }
      ]
    },
    {
      "cell_type": "code",
      "metadata": {
        "id": "jEDN5eDEiKzz",
        "colab_type": "code",
        "colab": {}
      },
      "source": [
        ""
      ],
      "execution_count": 0,
      "outputs": []
    }
  ]
}